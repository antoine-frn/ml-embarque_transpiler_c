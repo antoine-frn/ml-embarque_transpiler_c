{
 "cells": [
  {
   "cell_type": "markdown",
   "metadata": {
    "id": "cmYhC6xbhQq-"
   },
   "source": [
    "### Chargement du fichier joblib conbtenant la regression lineaire"
   ]
  },
  {
   "cell_type": "code",
   "execution_count": 1,
   "metadata": {
    "colab": {
     "base_uri": "https://localhost:8080/"
    },
    "id": "4BNO8RWqg-VJ",
    "outputId": "2a9b9c51-93b7-487f-d285-36f242833f32"
   },
   "outputs": [
    {
     "name": "stderr",
     "output_type": "stream",
     "text": [
      "/home/antoine/.local/lib/python3.6/site-packages/sklearn/base.py:315: UserWarning: Trying to unpickle estimator LinearRegression from version 0.24.2 when using version 0.24.1. This might lead to breaking code or invalid results. Use at your own risk.\n",
      "  UserWarning)\n"
     ]
    },
    {
     "data": {
      "text/plain": [
       "LinearRegression()"
      ]
     },
     "execution_count": 1,
     "metadata": {},
     "output_type": "execute_result"
    }
   ],
   "source": [
    "import joblib\n",
    "\n",
    "model_path = 'regression.joblib'\n",
    "model = joblib.load(model_path)\n",
    "model"
   ]
  },
  {
   "cell_type": "markdown",
   "metadata": {
    "id": "M37wxwNAjezK"
   },
   "source": [
    "### Recuperer les valeurs des coefficients"
   ]
  },
  {
   "cell_type": "code",
   "execution_count": 2,
   "metadata": {
    "colab": {
     "base_uri": "https://localhost:8080/"
    },
    "id": "hpDr2tbVhpqg",
    "outputId": "c9586700-8903-49a9-edb1-a17d90d5e72a"
   },
   "outputs": [
    {
     "name": "stdout",
     "output_type": "stream",
     "text": [
      "[1000.0000000000005, 10000.000000000005, 19999.999999999993] -5.820766091346741e-11\n"
     ]
    }
   ],
   "source": [
    "coeffs, origin = list(model.coef_), model.intercept_\n",
    "print(coeffs, origin)"
   ]
  },
  {
   "cell_type": "code",
   "execution_count": 40,
   "metadata": {
    "colab": {
     "base_uri": "https://localhost:8080/"
    },
    "id": "f5HsY5nLjUZO",
    "outputId": "ca26dac8-ff78-43de-a3e8-96648102c4f8"
   },
   "outputs": [
    {
     "data": {
      "text/plain": [
       "array([1281000.])"
      ]
     },
     "execution_count": 40,
     "metadata": {},
     "output_type": "execute_result"
    }
   ],
   "source": [
    "model.predict([[-9, -5, 67]])"
   ]
  },
  {
   "cell_type": "markdown",
   "metadata": {
    "id": "eahaeZSGj0Ij"
   },
   "source": [
    "### Generer une chaine de caractere contenant le code C permettant de calculer la prediction du modele"
   ]
  },
  {
   "cell_type": "code",
   "execution_count": 59,
   "metadata": {
    "id": "CcVCV8MEp6H2"
   },
   "outputs": [],
   "source": [
    "def produce_linear_prediction_c_code(model):\n",
    "    prediction_code = \"float thetas[] = {\"\n",
    "\n",
    "    # On ajoute un par un les coefficients à notre string de déclaration d'array C 'thetas'.\n",
    "    for i in range(len(model.coef_)):\n",
    "        prediction_code += str(model.coef_[i])\n",
    "        if i < len(model.coef_) - 1:\n",
    "            prediction_code += ','\n",
    "    prediction_code +=  ', ' + str(model.intercept_) + '};'\n",
    "\n",
    "  # On créé la string correspondant au code de la fonction ecrite en C,\n",
    "  # en injectant le code de la regression lineaire.\n",
    "    s = f\"\"\"\\\n",
    "float prediction(float* features, int n_features)\n",
    "    {{\n",
    "        {prediction_code}\n",
    "        long int waited = sizeof(thetas) / sizeof(float);\n",
    "        if (waited != n_features + 1)\n",
    "        {{\n",
    "            printf(\"Number of features given not coherent with the model\\\\n The model wait for %li values, but %i were given\\\\n\", waited - 1, n_features);\n",
    "            exit(1);\n",
    "        }}\n",
    "        float to_return = 0;\n",
    "        for (size_t i = 0; i < n_features; i++)\n",
    "        {{\n",
    "            to_return += features[i] * thetas[i];\n",
    "        }}\n",
    "\n",
    "        to_return += thetas[{str(len(model.coef_))}];\n",
    "        return to_return;\n",
    "    }}\n",
    "    \"\"\"\n",
    "\n",
    "    return s\n"
   ]
  },
  {
   "cell_type": "code",
   "execution_count": 60,
   "metadata": {
    "colab": {
     "base_uri": "https://localhost:8080/"
    },
    "id": "gcaSxgWCnn5W",
    "outputId": "74489490-c858-46e0-f10f-b84d0206547d"
   },
   "outputs": [
    {
     "name": "stdout",
     "output_type": "stream",
     "text": [
      "float prediction(float* features, int n_features)\n",
      "    {\n",
      "        float thetas[] = {1000.0000000000005,10000.000000000005,19999.999999999993, -5.820766091346741e-11};\n",
      "        long int waited = sizeof(thetas) / sizeof(float);\n",
      "        if (waited != n_features + 1)\n",
      "        {\n",
      "            printf(\"Number of features given not coherent with the model\\n The model wait for %li values, but %i were given\\n\", waited - 1, n_features);\n",
      "            exit(1);\n",
      "        }\n",
      "        float to_return = 0;\n",
      "        for (size_t i = 0; i < n_features; i++)\n",
      "        {\n",
      "            to_return += features[i] * thetas[i];\n",
      "        }\n",
      "\n",
      "        to_return += thetas[3];\n",
      "        return to_return;\n",
      "    }\n",
      "    \n"
     ]
    }
   ],
   "source": [
    "print(produce_linear_prediction_c_code(model))"
   ]
  },
  {
   "cell_type": "code",
   "execution_count": 61,
   "metadata": {},
   "outputs": [],
   "source": [
    "def generate_linear_c_main():\n",
    "    '''\n",
    "    Le main doit doit etre appele avec les valeurs constituant l'array sur laquelle on souhaite predire:\n",
    "    Si l'executable s'appelle prediction:\n",
    "        \n",
    "            ./prediction 1 2 3\n",
    "            \n",
    "    Sera equivalant au code python model.predict([[1, 2, 3]])\n",
    "    '''\n",
    "\n",
    "    s = f\"\"\"\\\n",
    "int main(int argc, char **argv)\n",
    "    {{   \n",
    "        if (argc == 1)\n",
    "        {{\n",
    "            printf(\"Missing data to make a prediction\\\\n\");\n",
    "            return 1;\n",
    "        }}\n",
    "        float data[argc];\n",
    "        for (size_t i = 1; i < argc; i++)\n",
    "        {{\n",
    "            data[i - 1] = atoi(argv[i]);\n",
    "        }}\n",
    "        printf(\"%f\\\\n\", prediction(data, argc - 1));\n",
    "        return 0;\n",
    "    }}\n",
    "    \"\"\"\n",
    "    return s"
   ]
  },
  {
   "cell_type": "code",
   "execution_count": 62,
   "metadata": {
    "colab": {
     "base_uri": "https://localhost:8080/"
    },
    "id": "U8QJseUqsRDK",
    "outputId": "8e404400-a97e-4445-a4db-d36763d11d0e"
   },
   "outputs": [
    {
     "name": "stdout",
     "output_type": "stream",
     "text": [
      "int main(int argc, char **argv)\n",
      "    {   \n",
      "        if (argc == 1)\n",
      "        {\n",
      "            printf(\"Missing data to make a prediction\\n\");\n",
      "            return 1;\n",
      "        }\n",
      "        float data[argc];\n",
      "        for (size_t i = 1; i < argc; i++)\n",
      "        {\n",
      "            data[i - 1] = atoi(argv[i]);\n",
      "        }\n",
      "        printf(\"%f\\n\", prediction(data, argc - 1));\n",
      "        return 0;\n",
      "    }\n",
      "    \n"
     ]
    }
   ],
   "source": [
    "print(generate_linear_c_main())"
   ]
  },
  {
   "cell_type": "markdown",
   "metadata": {
    "id": "i_FKp5S-7tDM"
   },
   "source": [
    "### Fonction qui genere un fichier c contenant la fonction pour calculer la prediction et le main dans lequel on appelle cette fonction."
   ]
  },
  {
   "cell_type": "code",
   "execution_count": 63,
   "metadata": {
    "id": "coUsT4BRsXq6"
   },
   "outputs": [],
   "source": [
    "def generate_file(model):\n",
    "    f = open(\"code.c\", \"w+\")\n",
    "    f.write(f\"\"\"\\\n",
    "    #include <stddef.h>\n",
    "    #include <stdio.h>\n",
    "    #include <stdlib.h>\n",
    "    #include <string.h>\n",
    "    \n",
    "    {produce_linear_prediction_c_code(model)}\n",
    "    {generate_linear_c_main()}\n",
    "    \"\"\")\n",
    "    f.close()\n",
    "    print(\"gcc code.c -o prediction\")\n"
   ]
  },
  {
   "cell_type": "code",
   "execution_count": 64,
   "metadata": {
    "colab": {
     "base_uri": "https://localhost:8080/"
    },
    "id": "uVq_SPwEuxhw",
    "outputId": "987f963e-3001-489c-839b-2420a93a53ca"
   },
   "outputs": [
    {
     "name": "stdout",
     "output_type": "stream",
     "text": [
      "gcc code.c -o prediction\n"
     ]
    }
   ],
   "source": [
    "generate_file(model)"
   ]
  },
  {
   "cell_type": "code",
   "execution_count": 38,
   "metadata": {
    "id": "HvWSsOSY0Nsa"
   },
   "outputs": [],
   "source": [
    "from sklearn.linear_model import LinearRegression\n",
    "import numpy as np"
   ]
  },
  {
   "cell_type": "code",
   "execution_count": 65,
   "metadata": {
    "id": "6IAycX904AB8"
   },
   "outputs": [],
   "source": [
    "'''\n",
    "Exemple took in the sklearn documentation\n",
    "'''\n",
    "X = np.array([[1, 1], [1, 2], [2, 2], [2, 3]])\n",
    "# y = 1 * x_0 + 2 * x_1 + 3\n",
    "y = np.dot(X, np.array([1, 2])) + 3\n",
    "reg = LinearRegression().fit(X, y)"
   ]
  },
  {
   "cell_type": "code",
   "execution_count": 67,
   "metadata": {
    "colab": {
     "base_uri": "https://localhost:8080/"
    },
    "id": "4eyVVZlT4KkC",
    "outputId": "923e16a4-1270-4719-a0bc-62fcd37540ed"
   },
   "outputs": [
    {
     "name": "stdout",
     "output_type": "stream",
     "text": [
      "gcc code.c -o prediction\n"
     ]
    }
   ],
   "source": [
    "generate_file(reg)"
   ]
  },
  {
   "cell_type": "code",
   "execution_count": 68,
   "metadata": {
    "colab": {
     "base_uri": "https://localhost:8080/"
    },
    "id": "Sl5AO60c4jZr",
    "outputId": "c26505ce-ee91-4aec-e534-131b86047577"
   },
   "outputs": [
    {
     "data": {
      "text/plain": [
       "array([16.])"
      ]
     },
     "execution_count": 68,
     "metadata": {},
     "output_type": "execute_result"
    }
   ],
   "source": [
    "reg.predict([[3, 5]])"
   ]
  },
  {
   "cell_type": "markdown",
   "metadata": {
    "id": "FoqRjzrI7SuV"
   },
   "source": [
    "En executant le code C généré, on obtient aussi 16."
   ]
  },
  {
   "cell_type": "code",
   "execution_count": null,
   "metadata": {
    "id": "yvIkQn_q8EXp"
   },
   "outputs": [],
   "source": []
  }
 ],
 "metadata": {
  "colab": {
   "collapsed_sections": [
    "cmYhC6xbhQq-"
   ],
   "name": "transpiler-un-model-en-c.ipynb",
   "provenance": []
  },
  "kernelspec": {
   "display_name": "Python 3",
   "language": "python",
   "name": "python3"
  },
  "language_info": {
   "codemirror_mode": {
    "name": "ipython",
    "version": 3
   },
   "file_extension": ".py",
   "mimetype": "text/x-python",
   "name": "python",
   "nbconvert_exporter": "python",
   "pygments_lexer": "ipython3",
   "version": "3.6.9"
  }
 },
 "nbformat": 4,
 "nbformat_minor": 1
}
